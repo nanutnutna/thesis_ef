{
 "cells": [
  {
   "cell_type": "code",
   "execution_count": 1,
   "metadata": {},
   "outputs": [],
   "source": []
  },
  {
   "cell_type": "code",
   "execution_count": 8,
   "metadata": {},
   "outputs": [],
   "source": [
    "tb1 = r'C:\\Users\\Nattapot\\Desktop\\thesis_ef\\emission_factor_1.csv'\n",
    "tb2 = r'C:\\Users\\Nattapot\\Desktop\\thesis_ef\\emission_factor_2.csv'\n",
    "tb3 = r'C:\\Users\\Nattapot\\Desktop\\thesis_ef\\emission_factor_3.csv'"
   ]
  },
  {
   "cell_type": "code",
   "execution_count": 4,
   "metadata": {},
   "outputs": [
    {
     "data": {
      "text/plain": [
       "{'instruction': 'Compressed Natural Gas หาแปลภาษาไทยและตัวย่อภาษาอังกฤษถ้ามี',\n",
       " 'system_prompt': 'You are Pathumma LLM, created by NECTEC. Your are a helpful assistant.',\n",
       " 'temperature': 0.4,\n",
       " 'max_new_tokens': 512,\n",
       " 'content': 'Compressed Natural Gas (CNG)',\n",
       " 'execution_time': '0.21'}"
      ]
     },
     "execution_count": 4,
     "metadata": {},
     "output_type": "execute_result"
    }
   ],
   "source": [
    "from aift import setting\n",
    "setting.set_api_key('8uBPcDDMhHrXYKKOadx70b7VFdLRRVdY')\n",
    "\n",
    "\n",
    "from aift.multimodal import textqa\n",
    "textqa.generate('Compressed Natural Gas หาแปลภาษาไทยและตัวย่อภาษาอังกฤษถ้ามี')"
   ]
  }
 ],
 "metadata": {
  "kernelspec": {
   "display_name": "env",
   "language": "python",
   "name": "python3"
  },
  "language_info": {
   "codemirror_mode": {
    "name": "ipython",
    "version": 3
   },
   "file_extension": ".py",
   "mimetype": "text/x-python",
   "name": "python",
   "nbconvert_exporter": "python",
   "pygments_lexer": "ipython3",
   "version": "3.10.8"
  }
 },
 "nbformat": 4,
 "nbformat_minor": 2
}
