{
 "cells": [
  {
   "cell_type": "code",
   "execution_count": 1,
   "metadata": {},
   "outputs": [],
   "source": [
    "import pandas as pd\n",
    "import pythainlp"
   ]
  },
  {
   "cell_type": "code",
   "execution_count": 8,
   "metadata": {},
   "outputs": [],
   "source": [
    "tb1 = r'C:\\Users\\Nattapot\\Desktop\\thesis_ef\\emission_factor_1.csv'\n",
    "tb2 = r'C:\\Users\\Nattapot\\Desktop\\thesis_ef\\emission_factor_2.csv'\n",
    "tb3 = r'C:\\Users\\Nattapot\\Desktop\\thesis_ef\\emission_factor_3.csv'"
   ]
  },
  {
   "cell_type": "code",
   "execution_count": 15,
   "metadata": {},
   "outputs": [
    {
     "data": {
      "text/plain": [
       "{'Agriculture',\n",
       " 'Anthracite',\n",
       " 'Bagasse',\n",
       " 'Bagasse (CO2only)',\n",
       " 'Biogas',\n",
       " 'Biogas (CO2only)',\n",
       " 'Cob',\n",
       " 'Cob (CO2only)',\n",
       " 'Compressed Natural Gas',\n",
       " 'FUEL WOOD',\n",
       " 'FUEL WOOD (CO2only)',\n",
       " 'Forestry',\n",
       " 'Fuel oil A',\n",
       " 'Fuel oil C',\n",
       " 'Gas/ Diesel Oil',\n",
       " 'Gas/Diesel oil',\n",
       " 'Household',\n",
       " 'Industry',\n",
       " 'Jet Kerosene',\n",
       " 'LPG',\n",
       " 'Lignite',\n",
       " 'Liquified Petroleum Gas',\n",
       " 'Motor Gasoline - low mileage light duty vihicle vintage 1995 or later',\n",
       " 'Motor Gasoline - oxydation catalyst',\n",
       " 'Motor Gasoline - uncontrolled',\n",
       " 'Motor gasoline',\n",
       " 'Natural gas',\n",
       " 'Palm kernel shell',\n",
       " 'Palm kernel shell (CO2only)',\n",
       " 'R-125',\n",
       " 'R-134',\n",
       " 'R-134a',\n",
       " 'R-143',\n",
       " 'R-143a',\n",
       " 'R-22 (HCFC-22)',\n",
       " 'R-32',\n",
       " 'Sub-bituminous coal',\n",
       " 'ไฟฟ้าแบบ grid mix ปี 2016-2018; LCIA method IPCC 2013 GWP 100a V1.03'}"
      ]
     },
     "execution_count": 15,
     "metadata": {},
     "output_type": "execute_result"
    }
   ],
   "source": [
    "table2 = pd.read_csv(tb2)\n",
    "g_tb2=set(word.split() for word in table2['ชื่อ'])\n",
    "g_tb2"
   ]
  }
 ],
 "metadata": {
  "kernelspec": {
   "display_name": "env",
   "language": "python",
   "name": "python3"
  },
  "language_info": {
   "codemirror_mode": {
    "name": "ipython",
    "version": 3
   },
   "file_extension": ".py",
   "mimetype": "text/x-python",
   "name": "python",
   "nbconvert_exporter": "python",
   "pygments_lexer": "ipython3",
   "version": "3.10.8"
  }
 },
 "nbformat": 4,
 "nbformat_minor": 2
}
