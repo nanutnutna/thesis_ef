{
 "cells": [
  {
   "cell_type": "code",
   "execution_count": 3,
   "id": "79a915be-139d-4709-b91e-5cb7a0d7007e",
   "metadata": {},
   "outputs": [
    {
     "ename": "ModuleNotFoundError",
     "evalue": "No module named 'wget'",
     "output_type": "error",
     "traceback": [
      "\u001b[1;31m---------------------------------------------------------------------------\u001b[0m",
      "\u001b[1;31mModuleNotFoundError\u001b[0m                       Traceback (most recent call last)",
      "Cell \u001b[1;32mIn[3], line 6\u001b[0m\n\u001b[0;32m      4\u001b[0m \u001b[38;5;28;01mimport\u001b[39;00m \u001b[38;5;21;01mpandas\u001b[39;00m \u001b[38;5;28;01mas\u001b[39;00m \u001b[38;5;21;01mpd\u001b[39;00m\n\u001b[0;32m      5\u001b[0m \u001b[38;5;28;01mfrom\u001b[39;00m \u001b[38;5;21;01mtqdm\u001b[39;00m \u001b[38;5;28;01mimport\u001b[39;00m tqdm\n\u001b[1;32m----> 6\u001b[0m \u001b[38;5;28;01mimport\u001b[39;00m \u001b[38;5;21;01mwget\u001b[39;00m\n",
      "\u001b[1;31mModuleNotFoundError\u001b[0m: No module named 'wget'"
     ]
    }
   ],
   "source": [
    "import requests\n",
    "from bs4 import BeautifulSoup\n",
    "import urllib3\n",
    "import pandas as pd\n",
    "from tqdm import tqdm"
   ]
  },
  {
   "cell_type": "code",
   "execution_count": null,
   "id": "cdbbd261",
   "metadata": {},
   "outputs": [],
   "source": [
    "# URL to scrape\n",
    "urllib3.disable_warnings(urllib3.exceptions.InsecureRequestWarning)\n",
    "url = \"https://thaicarbonlabel.tgo.or.th/index.php?lang=TH&mod=Y0hKdlpIVmpkSE5mWlcxcGMzTnBiMjQ9\"\n",
    "\n",
    "# Send a GET request\n",
    "response = requests.get(url, verify=False)\n",
    "\n",
    "# Check if the request was successful\n",
    "if response.status_code == 200:\n",
    "    soup = BeautifulSoup(response.content, 'lxml')\n",
    "    table = soup.find(\"table\",{\"class\":\"table table-striped table-bordered table-hover table-full-width table-customize\"})\n",
    "    dfs = pd.read_html(str(table))[0]\n",
    "else:\n",
    "    print(f\"Failed to fetch page, status code: {response.status_code}\")\n"
   ]
  },
  {
   "cell_type": "code",
   "execution_count": null,
   "id": "949e1a69-0be3-4b6d-aad0-fe1bfe1f36f3",
   "metadata": {},
   "outputs": [],
   "source": [
    "dfs"
   ]
  },
  {
   "cell_type": "code",
   "execution_count": null,
   "id": "b803738c",
   "metadata": {},
   "outputs": [],
   "source": [
    "urllib3.disable_warnings(urllib3.exceptions.InsecureRequestWarning)\n",
    "url = \"https://thaicarbonlabel.tgo.or.th/index.php?lang=TH&mod=YjNKbllXNXBlbUYwYVc5dVgyVnRhWE56YVc5dQ\"\n",
    "\n",
    "\n",
    "response = requests.get(url, verify=False)\n",
    "if response.status_code == 200:\n",
    "    soup = BeautifulSoup(response.content, 'lxml')\n",
    "    table = soup.find(\"table\")\n",
    "    dfs = pd.read_html(str(table),header=[1,2])[0]\n",
    "    dfs.columns = [\" \".join(col).strip() if \"unit\" in col[1] else col[0] for col in dfs.columns]\n",
    "else:\n",
    "    print(f\"Failed to fetch page, status code: {response.status_code}\")\n"
   ]
  },
  {
   "cell_type": "code",
   "execution_count": null,
   "id": "82fef2b1",
   "metadata": {},
   "outputs": [],
   "source": [
    "dfs['Description'] = dfs['ลำดับ']\n",
    "dfs['Description'] = dfs['Description'].fillna(dfs['ชื่อ'])\n",
    "dfs.loc[1:23, 'Description'] = 'Stationary Combustion'\n",
    "dfs.loc[24:31, 'Description'] = 'Mobile Combustion (On road)'\n",
    "dfs.loc[31:37, 'Description'] = 'Mobile Combustion (Off road), Diesel'\n",
    "dfs.loc[38:42, 'Description'] = 'Mobile Combustion (On road), Motor Gasoline 4 stroke'\n",
    "dfs.loc[43:47, 'Description'] = 'Mobile Combustion (On road), Motor Gasoline 2 stroke'\n",
    "dfs.loc[48, 'Description'] = 'Electricity, grid mix (ไฟฟ้า)'\n",
    "dfs.loc[50:, 'Description'] = 'Refrigerants (สารทำความเย็น)'\n",
    "dfs['ลำดับ'] = pd.to_numeric(dfs['ลำดับ'], errors='coerce')\n",
    "dfs = dfs.dropna(subset=['ลำดับ'])\n",
    "dfs = dfs.drop(columns=['CO2 [kg CO2/unit]','Fossil CH4 [kg CH4/unit]','CH4 [kg CH4/unit]','N2O [kg N2O/unit]'])\n",
    "dfs"
   ]
  },
  {
   "cell_type": "code",
   "execution_count": 2,
   "id": "75f69b93",
   "metadata": {},
   "outputs": [
    {
     "name": "stderr",
     "output_type": "stream",
     "text": [
      "  0%|          | 0/923 [00:00<?, ?it/s]"
     ]
    },
    {
     "name": "stderr",
     "output_type": "stream",
     "text": [
      "100%|██████████| 923/923 [08:22<00:00,  1.84it/s]\n"
     ]
    }
   ],
   "source": [
    "lst_license = []\n",
    "lst_imgs_url,lst_img_details = [],[]\n",
    "for num in tqdm(range(1,924)):\n",
    "    urllib3.disable_warnings(urllib3.exceptions.InsecureRequestWarning)\n",
    "    # URL of the webpage\n",
    "    url = f'https://thaicarbonlabel.tgo.or.th/index.php?lang=TH&mod=Y0hKdlpIVmpkSE5mWVhCd2NtOTJZV3c9&page={num}'\n",
    "    response = requests.get(url, verify=False)\n",
    "    soup = BeautifulSoup(response.content, 'html.parser')\n",
    "\n",
    "    # License\n",
    "    license_p = soup.find_all(class_='approval-text-info')\n",
    "    for i, element in enumerate(license_p, start=1):\n",
    "        h4_tags = element.find_all('h4')  # Find all <h4> inside the current element\n",
    "        if h4_tags:\n",
    "            for h4 in h4_tags:\n",
    "                lst_license.append(h4.text)\n",
    "        else:\n",
    "            print(f\"Section {i}: No <h4> found inside this element.\")\n",
    "\n",
    "    # Images\n",
    "    approval_text_elements = soup.find_all(class_='span9 approval-text')\n",
    "    for i, element in enumerate(approval_text_elements, start=1):\n",
    "        img_tags = element.find_all('img')  # Find all <img> inside the current element\n",
    "        if img_tags:\n",
    "            for img in img_tags:\n",
    "                img_src = img.get('src')\n",
    "                img_alt = img.get('alt', 'No alt attribute')\n",
    "                lst_imgs_url.append(img_src)\n",
    "                lst_img_details.append(img_alt)\n",
    "        else:\n",
    "            print(f\"Section {i}: No <img> found inside this element.\")\n",
    "\n",
    "\n",
    "df = pd.DataFrame({'License':lst_license,'img_URL':lst_imgs_url,'img_details':lst_img_details})\n",
    "df.to_csv('url_imges.csv',index=False,encoding='utf-8-sig')"
   ]
  },
  {
   "cell_type": "code",
   "execution_count": 3,
   "id": "18822aa4",
   "metadata": {},
   "outputs": [
    {
     "data": {
      "text/html": [
       "<div>\n",
       "<style scoped>\n",
       "    .dataframe tbody tr th:only-of-type {\n",
       "        vertical-align: middle;\n",
       "    }\n",
       "\n",
       "    .dataframe tbody tr th {\n",
       "        vertical-align: top;\n",
       "    }\n",
       "\n",
       "    .dataframe thead th {\n",
       "        text-align: right;\n",
       "    }\n",
       "</style>\n",
       "<table border=\"1\" class=\"dataframe\">\n",
       "  <thead>\n",
       "    <tr style=\"text-align: right;\">\n",
       "      <th></th>\n",
       "      <th>License</th>\n",
       "      <th>img_URL</th>\n",
       "      <th>img_details</th>\n",
       "    </tr>\n",
       "  </thead>\n",
       "  <tbody>\n",
       "    <tr>\n",
       "      <th>0</th>\n",
       "      <td>TGO CFP FY25-012-04-0046</td>\n",
       "      <td>https://thaicarbonlabel.tgo.or.th/admin/upload...</td>\n",
       "      <td>เส้นหมี่อบแห้ง ขนาด 180 กรัม</td>\n",
       "    </tr>\n",
       "    <tr>\n",
       "      <th>1</th>\n",
       "      <td>TGO CFP FY25-012-03-0047</td>\n",
       "      <td>https://thaicarbonlabel.tgo.or.th/admin/upload...</td>\n",
       "      <td>เส้นหมี่อบแห้ง ขนาด 500 กรัม</td>\n",
       "    </tr>\n",
       "    <tr>\n",
       "      <th>2</th>\n",
       "      <td>TGO CFP FY25-012-03-0048</td>\n",
       "      <td>https://thaicarbonlabel.tgo.or.th/admin/upload...</td>\n",
       "      <td>เส้นหมี่อบแห้ง ขนาด 2,700 กรัม</td>\n",
       "    </tr>\n",
       "    <tr>\n",
       "      <th>3</th>\n",
       "      <td>TGO CFP FY25-015-02-0051</td>\n",
       "      <td>https://thaicarbonlabel.tgo.or.th/admin/upload...</td>\n",
       "      <td>ข้าวหอมมะลิ 100% บรรจุถุง ตราฉัตร ขนาด 20 กิโล...</td>\n",
       "    </tr>\n",
       "    <tr>\n",
       "      <th>4</th>\n",
       "      <td>TGO CFP FY25-021-02-0081</td>\n",
       "      <td>https://thaicarbonlabel.tgo.or.th/admin/upload...</td>\n",
       "      <td>เบียร์ลีโอ บรรจุขวดแก้ว ขนาด 620 มิลลิลิตร</td>\n",
       "    </tr>\n",
       "    <tr>\n",
       "      <th>...</th>\n",
       "      <td>...</td>\n",
       "      <td>...</td>\n",
       "      <td>...</td>\n",
       "    </tr>\n",
       "    <tr>\n",
       "      <th>11068</th>\n",
       "      <td>TGO CFP FY17-031-242</td>\n",
       "      <td>https://thaicarbonlabel.tgo.or.th/admin/upload...</td>\n",
       "      <td>สีน้ำโฟร์ซีซั่น ชนิดด้าน สำหรับทาภายนอก เบส เอ...</td>\n",
       "    </tr>\n",
       "    <tr>\n",
       "      <th>11069</th>\n",
       "      <td>-</td>\n",
       "      <td>https://thaicarbonlabel.tgo.or.th/assets/img/n...</td>\n",
       "      <td>ขนมปังสอดไส้ถั่วแดง</td>\n",
       "    </tr>\n",
       "    <tr>\n",
       "      <th>11070</th>\n",
       "      <td>TGO CFP FY21-068-403</td>\n",
       "      <td>https://thaicarbonlabel.tgo.or.th/admin/upload...</td>\n",
       "      <td>น้ำดื่มสิงห์ บรรจุขวดแก้ว ขนาด 500 มิลลิลิตร</td>\n",
       "    </tr>\n",
       "    <tr>\n",
       "      <th>11071</th>\n",
       "      <td>TGO CFP FY21-068-402</td>\n",
       "      <td>https://thaicarbonlabel.tgo.or.th/admin/upload...</td>\n",
       "      <td>น้ำดื่มสิงห์ บรรจุขวด PET ขนาด 6,000 มิลลิลิตร</td>\n",
       "    </tr>\n",
       "    <tr>\n",
       "      <th>11072</th>\n",
       "      <td>TGO CFP FY21-070-02-410</td>\n",
       "      <td>https://thaicarbonlabel.tgo.or.th/admin/upload...</td>\n",
       "      <td>น้ำดื่มตราคริสตัล บรรจุขวดพีอีที ขนาด 600 ลบ.ซม.</td>\n",
       "    </tr>\n",
       "  </tbody>\n",
       "</table>\n",
       "<p>11073 rows × 3 columns</p>\n",
       "</div>"
      ],
      "text/plain": [
       "                        License  \\\n",
       "0      TGO CFP FY25-012-04-0046   \n",
       "1      TGO CFP FY25-012-03-0047   \n",
       "2      TGO CFP FY25-012-03-0048   \n",
       "3      TGO CFP FY25-015-02-0051   \n",
       "4      TGO CFP FY25-021-02-0081   \n",
       "...                         ...   \n",
       "11068      TGO CFP FY17-031-242   \n",
       "11069                         -   \n",
       "11070      TGO CFP FY21-068-403   \n",
       "11071      TGO CFP FY21-068-402   \n",
       "11072   TGO CFP FY21-070-02-410   \n",
       "\n",
       "                                                 img_URL  \\\n",
       "0      https://thaicarbonlabel.tgo.or.th/admin/upload...   \n",
       "1      https://thaicarbonlabel.tgo.or.th/admin/upload...   \n",
       "2      https://thaicarbonlabel.tgo.or.th/admin/upload...   \n",
       "3      https://thaicarbonlabel.tgo.or.th/admin/upload...   \n",
       "4      https://thaicarbonlabel.tgo.or.th/admin/upload...   \n",
       "...                                                  ...   \n",
       "11068  https://thaicarbonlabel.tgo.or.th/admin/upload...   \n",
       "11069  https://thaicarbonlabel.tgo.or.th/assets/img/n...   \n",
       "11070  https://thaicarbonlabel.tgo.or.th/admin/upload...   \n",
       "11071  https://thaicarbonlabel.tgo.or.th/admin/upload...   \n",
       "11072  https://thaicarbonlabel.tgo.or.th/admin/upload...   \n",
       "\n",
       "                                             img_details  \n",
       "0                           เส้นหมี่อบแห้ง ขนาด 180 กรัม  \n",
       "1                           เส้นหมี่อบแห้ง ขนาด 500 กรัม  \n",
       "2                         เส้นหมี่อบแห้ง ขนาด 2,700 กรัม  \n",
       "3      ข้าวหอมมะลิ 100% บรรจุถุง ตราฉัตร ขนาด 20 กิโล...  \n",
       "4            เบียร์ลีโอ บรรจุขวดแก้ว ขนาด 620 มิลลิลิตร   \n",
       "...                                                  ...  \n",
       "11068  สีน้ำโฟร์ซีซั่น ชนิดด้าน สำหรับทาภายนอก เบส เอ...  \n",
       "11069                                ขนมปังสอดไส้ถั่วแดง  \n",
       "11070       น้ำดื่มสิงห์ บรรจุขวดแก้ว ขนาด 500 มิลลิลิตร  \n",
       "11071     น้ำดื่มสิงห์ บรรจุขวด PET ขนาด 6,000 มิลลิลิตร  \n",
       "11072   น้ำดื่มตราคริสตัล บรรจุขวดพีอีที ขนาด 600 ลบ.ซม.  \n",
       "\n",
       "[11073 rows x 3 columns]"
      ]
     },
     "execution_count": 3,
     "metadata": {},
     "output_type": "execute_result"
    }
   ],
   "source": [
    "df = pd.read_csv(\"url_imges.csv\")\n",
    "df"
   ]
  },
  {
   "cell_type": "code",
   "execution_count": null,
   "id": "639253d1",
   "metadata": {},
   "outputs": [
    {
     "ename": "NameError",
     "evalue": "name 'wget' is not defined",
     "output_type": "error",
     "traceback": [
      "\u001b[1;31m---------------------------------------------------------------------------\u001b[0m",
      "\u001b[1;31mNameError\u001b[0m                                 Traceback (most recent call last)",
      "Cell \u001b[1;32mIn[1], line 3\u001b[0m\n\u001b[0;32m      1\u001b[0m \u001b[38;5;66;03m#test\u001b[39;00m\n\u001b[0;32m      2\u001b[0m url_test \u001b[38;5;241m=\u001b[39m \u001b[38;5;124m\"\u001b[39m\u001b[38;5;124mhttps://thaicarbonlabel.tgo.or.th/admin/uploadfiles/approval/L/836c936c5a.jpg\u001b[39m\u001b[38;5;124m\"\u001b[39m\n\u001b[1;32m----> 3\u001b[0m filename \u001b[38;5;241m=\u001b[39m \u001b[43mwget\u001b[49m\u001b[38;5;241m.\u001b[39mdownload(url_test)\n",
      "\u001b[1;31mNameError\u001b[0m: name 'wget' is not defined"
     ]
    }
   ],
   "source": []
  }
 ],
 "metadata": {
  "kernelspec": {
   "display_name": "env",
   "language": "python",
   "name": "python3"
  },
  "language_info": {
   "codemirror_mode": {
    "name": "ipython",
    "version": 3
   },
   "file_extension": ".py",
   "mimetype": "text/x-python",
   "name": "python",
   "nbconvert_exporter": "python",
   "pygments_lexer": "ipython3",
   "version": "3.10.8"
  }
 },
 "nbformat": 4,
 "nbformat_minor": 5
}
