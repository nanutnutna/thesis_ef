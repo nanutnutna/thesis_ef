{
 "cells": [
  {
   "cell_type": "code",
   "execution_count": 4,
   "id": "79a915be-139d-4709-b91e-5cb7a0d7007e",
   "metadata": {},
   "outputs": [],
   "source": [
    "import requests\n",
    "from bs4 import BeautifulSoup\n",
    "import urllib3\n",
    "import pandas as pd\n",
    "from tqdm import tqdm"
   ]
  },
  {
   "cell_type": "code",
   "execution_count": null,
   "id": "cdbbd261",
   "metadata": {},
   "outputs": [],
   "source": [
    "# URL to scrape\n",
    "urllib3.disable_warnings(urllib3.exceptions.InsecureRequestWarning)\n",
    "url = \"https://thaicarbonlabel.tgo.or.th/index.php?lang=TH&mod=Y0hKdlpIVmpkSE5mWlcxcGMzTnBiMjQ9\"\n",
    "\n",
    "# Send a GET request\n",
    "response = requests.get(url, verify=False)\n",
    "\n",
    "# Check if the request was successful\n",
    "if response.status_code == 200:\n",
    "    soup = BeautifulSoup(response.content, 'lxml')\n",
    "    table = soup.find(\"table\",{\"class\":\"table table-striped table-bordered table-hover table-full-width table-customize\"})\n",
    "    dfs = pd.read_html(str(table))[0]\n",
    "else:\n",
    "    print(f\"Failed to fetch page, status code: {response.status_code}\")\n"
   ]
  },
  {
   "cell_type": "code",
   "execution_count": null,
   "id": "949e1a69-0be3-4b6d-aad0-fe1bfe1f36f3",
   "metadata": {},
   "outputs": [],
   "source": [
    "dfs"
   ]
  },
  {
   "cell_type": "code",
   "execution_count": null,
   "id": "b803738c",
   "metadata": {},
   "outputs": [],
   "source": [
    "urllib3.disable_warnings(urllib3.exceptions.InsecureRequestWarning)\n",
    "url = \"https://thaicarbonlabel.tgo.or.th/index.php?lang=TH&mod=YjNKbllXNXBlbUYwYVc5dVgyVnRhWE56YVc5dQ\"\n",
    "\n",
    "\n",
    "response = requests.get(url, verify=False)\n",
    "\n",
    "\n",
    "if response.status_code == 200:\n",
    "    soup = BeautifulSoup(response.content, 'lxml')\n",
    "    table = soup.find(\"table\",{\"class\":\"table table-striped table-bordered table-hover table-full-width table-customize\"})\n",
    "    dfs = pd.read_html(str(table),header=[1,2])[0]\n",
    "    dfs.columns = [\" \".join(col).strip() if \"unit\" in col[1] else col[0] for col in dfs.columns]\n",
    "else:\n",
    "    print(f\"Failed to fetch page, status code: {response.status_code}\")\n"
   ]
  },
  {
   "cell_type": "code",
   "execution_count": null,
   "id": "82fef2b1",
   "metadata": {},
   "outputs": [],
   "source": [
    "dfs['Description'] = dfs['ลำดับ']\n",
    "dfs['Description'] = dfs['Description'].fillna(dfs['ชื่อ'])\n",
    "dfs.loc[1:23, 'Description'] = 'Stationary Combustion'\n",
    "dfs.loc[24:31, 'Description'] = 'Mobile Combustion (On road)'\n",
    "dfs.loc[31:37, 'Description'] = 'Mobile Combustion (Off road), Diesel'\n",
    "dfs.loc[38:42, 'Description'] = 'Mobile Combustion (On road), Motor Gasoline 4 stroke'\n",
    "dfs.loc[43:47, 'Description'] = 'Mobile Combustion (On road), Motor Gasoline 2 stroke'\n",
    "dfs.loc[48, 'Description'] = 'Electricity, grid mix (ไฟฟ้า)'\n",
    "dfs.loc[50:, 'Description'] = 'Refrigerants (สารทำความเย็น)'\n",
    "dfs['ลำดับ'] = pd.to_numeric(dfs['ลำดับ'], errors='coerce')\n",
    "dfs = dfs.dropna(subset=['ลำดับ'])\n",
    "dfs = dfs.drop(columns=['CO2 [kg CO2/unit]','Fossil CH4 [kg CH4/unit]','CH4 [kg CH4/unit]','N2O [kg N2O/unit]'])\n",
    "dfs"
   ]
  },
  {
   "cell_type": "code",
   "execution_count": null,
   "id": "4525a672",
   "metadata": {},
   "outputs": [],
   "source": [
    "approval-text-info\n",
    "span9 approval-text"
   ]
  },
  {
   "cell_type": "code",
   "execution_count": 19,
   "id": "75f69b93",
   "metadata": {},
   "outputs": [
    {
     "name": "stderr",
     "output_type": "stream",
     "text": [
      "100%|██████████| 923/923 [07:54<00:00,  1.95it/s]\n"
     ]
    }
   ],
   "source": [
    "lst_license = []\n",
    "lst_imgs_url,lst_img_details = [],[]\n",
    "for num in tqdm(range(1,924)):\n",
    "    urllib3.disable_warnings(urllib3.exceptions.InsecureRequestWarning)\n",
    "    # URL of the webpage\n",
    "    url = f'https://thaicarbonlabel.tgo.or.th/index.php?lang=TH&mod=Y0hKdlpIVmpkSE5mWVhCd2NtOTJZV3c9&page={num}'\n",
    "    response = requests.get(url, verify=False)\n",
    "    soup = BeautifulSoup(response.content, 'html.parser')\n",
    "\n",
    "    # License\n",
    "    license_p = soup.find_all(class_='approval-text-info')\n",
    "    for i, element in enumerate(license_p, start=1):\n",
    "        h4_tags = element.find_all('h4')  # Find all <h4> inside the current element\n",
    "        if h4_tags:\n",
    "            for h4 in h4_tags:\n",
    "                lst_license.append(h4.text)\n",
    "        else:\n",
    "            print(f\"Section {i}: No <h4> found inside this element.\")\n",
    "\n",
    "    # Images\n",
    "    approval_text_elements = soup.find_all(class_='span9 approval-text')\n",
    "    for i, element in enumerate(approval_text_elements, start=1):\n",
    "        img_tags = element.find_all('img')  # Find all <img> inside the current element\n",
    "        if img_tags:\n",
    "            for img in img_tags:\n",
    "                img_src = img.get('src')\n",
    "                img_alt = img.get('alt', 'No alt attribute')\n",
    "                lst_imgs_url.append(img_src)\n",
    "                lst_img_details.append(img_alt)\n",
    "        else:\n",
    "            print(f\"Section {i}: No <img> found inside this element.\")"
   ]
  },
  {
   "cell_type": "code",
   "execution_count": 32,
   "id": "18822aa4",
   "metadata": {},
   "outputs": [],
   "source": [
    "df = pd.DataFrame({'License':lst_license,'img_URL':lst_imgs_url,'img_details':lst_img_details})\n",
    "df.to_csv('url_imges.csv',index=False,encoding='utf-8-sig')\n",
    "# print(len(lst_license),len(lst_imgs_url),len(lst_img_details))"
   ]
  },
  {
   "cell_type": "code",
   "execution_count": null,
   "id": "639253d1",
   "metadata": {},
   "outputs": [],
   "source": []
  }
 ],
 "metadata": {
  "kernelspec": {
   "display_name": "env",
   "language": "python",
   "name": "python3"
  },
  "language_info": {
   "codemirror_mode": {
    "name": "ipython",
    "version": 3
   },
   "file_extension": ".py",
   "mimetype": "text/x-python",
   "name": "python",
   "nbconvert_exporter": "python",
   "pygments_lexer": "ipython3",
   "version": "3.10.8"
  }
 },
 "nbformat": 4,
 "nbformat_minor": 5
}
